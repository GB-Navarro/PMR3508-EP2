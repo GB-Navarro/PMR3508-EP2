{
 "cells": [
  {
   "cell_type": "markdown",
   "metadata": {
    "id": "zWRYxjUJBYJQ"
   },
   "source": [
    "# **PMR3508 - Exercício Programa 02**: <br> **Redes Neurais e o Dataset MNIST**\n",
    "---\n",
    "---"
   ]
  },
  {
   "cell_type": "markdown",
   "metadata": {
    "id": "4S7_SY2jD7xf"
   },
   "source": [
    "## ✏️ **Cabeçalho**:\n",
    "\n",
    "### **Nome**: `Gabriel da Silva Navarro`\n",
    "### **NUSP**: `13727908`\n",
    "### **Hash**: `60`\n",
    "\n",
    "---"
   ]
  },
  {
   "cell_type": "markdown",
   "metadata": {
    "id": "lG-GjK2KD_rv"
   },
   "source": [
    "## 📜 **Descrição:**\n",
    "\n",
    "Neste exercício, você irá trabalhar com o **dataset MNIST**, um conjunto de dados com 70.000 imagens de dígitos escritos à mão. Seu objetivo será aplicar os conceitos de **Redes Neurais Artificiais (ANNs)** vistos na aula teórica. Este EP está dividido em tarefas, sua formatação não deve ser alterada, mas novas células de código ou texto podem ser criadas nos blocos de cada tarefa.\n",
    "\n",
    "---"
   ]
  },
  {
   "cell_type": "markdown",
   "metadata": {
    "id": "66eCrGkUEU97"
   },
   "source": [
    "## ⚠️ **Instruções:**\n",
    "- Complete todas as tarefas abaixo, respondendo às perguntas e escrevendo o código necessário.\n",
    "- Comente seu código para facilitar a correção.\n",
    "- Entregue o notebook no formato `.ipynb`.\n",
    "\n",
    "---\n",
    "\n"
   ]
  },
  {
   "cell_type": "markdown",
   "metadata": {
    "id": "qvXP1q0XEMTp"
   },
   "source": [
    "## ✅ **Tarefas:**\n",
    "\n",
    "1. **Probabilidades de dígitos no *dataset***       ⇒ `2 pontos`\n",
    "2. **Análise Exploratória de Dados (EDA)**          ⇒ `2 pontos`\n",
    "3. **Treinamento e teste de Modelos**               ⇒ `2 pontos`\n",
    "4. **Comunicação de Resultados e Visualizações**    ⇒ `2 pontos`\n",
    "5. **Publicação no *Kaggle* e Documentação**        ⇒ `2 pontos`\n",
    "\n",
    "---\n",
    "\n",
    "<br>\n",
    "<center>\n",
    "        <h1>\n",
    "        <b>\n",
    "        BOA SORTE !!!\n",
    "        </b>\n",
    "        </h1>\n",
    "</center>\n",
    "<br>\n",
    "\n",
    "---\n",
    "---"
   ]
  },
  {
   "cell_type": "markdown",
   "metadata": {
    "id": "1UNlw6PcAtIW"
   },
   "source": [
    "## ⏳ Loading dos Dados"
   ]
  },
  {
   "cell_type": "code",
   "execution_count": null,
   "metadata": {
    "id": "Up-QY3yPcITN"
   },
   "outputs": [],
   "source": [
    "import pickle\n",
    "import random\n",
    "import numpy as np\n",
    "import os\n",
    "from os.path import join\n",
    "\n",
    "# Configuração de seeds para replicabilidade\n",
    "np.random.seed(42)  # Seed para NumPy\n",
    "random.seed(42)     # Seed para o módulo random\n",
    "\n",
    "input_path = os.getcwd()  # Obtém o diretório atual\n",
    "images_filepath = join(input_path, 'MNIST-images.pkl')\n",
    "labels_filepath = join(input_path, 'MNIST-labels.pkl')\n",
    "validation_images_filepath = join(input_path, 'MNIST-validation-images.pkl')\n",
    "\n",
    "with open(images_filepath, 'rb') as f:\n",
    "    X_tot = pickle.load(f)\n",
    "\n",
    "with open(labels_filepath, 'rb') as f:\n",
    "    y_tot = pickle.load(f)\n",
    "\n",
    "with open(validation_images_filepath, 'rb') as f:\n",
    "    X_val = pickle.load(f)"
   ]
  },
  {
   "cell_type": "code",
   "execution_count": null,
   "metadata": {
    "colab": {
     "base_uri": "https://localhost:8080/",
     "height": 910
    },
    "id": "Oj8ARMguedYL",
    "outputId": "86d3a6f6-94a2-4056-cd53-e95cc800867c"
   },
   "outputs": [],
   "source": [
    "'''\n",
    "TESTE DE CARREGAMENTO DO DATASET POR VISUALIZAÇÃO\n",
    "Este bloco visualiza algumas imagens do dataset MNIST para verificar se o\n",
    "carregamento foi realizado corretamente.\n",
    "'''\n",
    "\n",
    "%matplotlib inline\n",
    "import random\n",
    "import matplotlib.pyplot as plt\n",
    "\n",
    "def show_images(images, title_texts):\n",
    "    # Função para mostrar as imagens com seus respectivos títulos\n",
    "    cols = 3  # Número de colunas na visualização\n",
    "    rows = int(len(images) / cols) + 1  # Calcula o número de linhas\n",
    "    plt.figure(figsize=(12, 12))  # Define o tamanho da figura\n",
    "    index = 1\n",
    "    for x in zip(images, title_texts):  # Itera sobre as imagens e títulos\n",
    "        image = x[0]\n",
    "        title_text = x[1]\n",
    "        plt.subplot(rows, cols, index)  # Adiciona um subplot\n",
    "        plt.axis('off')  # Desativa os eixos\n",
    "        plt.imshow(image, cmap=plt.cm.gray)  # Mostra a imagem em escala de cinza\n",
    "        if (title_text != ''):\n",
    "            plt.title(title_text, fontsize=15)  # Define o título da imagem\n",
    "        index += 1\n",
    "    plt.tight_layout()  # Ajusta o layout para evitar sobreposição de títulos\n",
    "    plt.show()  # Exibe a figura com as imagens e títulos\n",
    "\n",
    "images_2_show = []  # Lista para armazenar as imagens a serem mostradas\n",
    "titles_2_show = []  # Lista para armazenar os títulos das imagens\n",
    "# Seleciona aleatoriamente 9 imagens de treino\n",
    "for i in range(0, 9):\n",
    "    r = random.randint(1, 60000)\n",
    "    images_2_show.append(X_tot[r])  # Adiciona a imagem selecionada à lista\n",
    "    titles_2_show.append(f\"Imagem [{str(r)}] = {str(y_tot[r])}\")  # Adiciona o título correspondente\n",
    "\n",
    "show_images(images_2_show, titles_2_show)  # Exibe as imagens selecionadas"
   ]
  },
  {
   "cell_type": "markdown",
   "metadata": {
    "id": "59c6DGGoFiiU"
   },
   "source": [
    "# 0️⃣ Suas bibliotecas"
   ]
  },
  {
   "cell_type": "code",
   "execution_count": null,
   "metadata": {
    "id": "l5syjVo2Fh9A"
   },
   "outputs": [],
   "source": [
    "# Importa a biblioteca pandas para lidar com Dataframes.\n",
    "import pandas as pd\n",
    "# Importa o módulo graph_objects da biblioteca plotly para lidar com visualizações gráficas.\n",
    "import plotly.graph_objects as go\n",
    "# Importa o módulo pyplot da biblioteca matplotlib para lidar com a visualização de imagens.\n",
    "import matplotlib.pyplot as plt\n",
    "# Importa o objeto Optional da biblioteca typing para lidar com tipagens opcionais.\n",
    "from typing import Optional\n",
    "# Importa do módulo model_selection da biblioteca sklearn o método train_test_split para separar os dados em treino e teste.\n",
    "from sklearn.model_selection import train_test_split\n",
    "# Importa do módulo preprocessing da biblioteca sklearn o objeto MinMaxScaler para normalizar os dados.\n",
    "from sklearn.preprocessing import MinMaxScaler\n",
    "# Importa do módulo neural_network da biblioteca sklearn o objeto MLPClassifier para criar a rede neural.\n",
    "from sklearn.neural_network import MLPClassifier\n",
    "# Importa do módulo model_selection da biblioteca sklearn o objeto GridSearchCV.\n",
    "from sklearn.model_selection import GridSearchCV\n",
    "# Importa do módulo metrics da biblioteca sklearn os métodos classification_report, accuracy_score e confusion_matrix \n",
    "# para gerar as métricas de avaliação.\n",
    "from sklearn.metrics import classification_report, accuracy_score, confusion_matrix"
   ]
  },
  {
   "cell_type": "markdown",
   "metadata": {
    "id": "xqDjIWMMKrwp"
   },
   "source": [
    "# 1️⃣ Tarefa 01: Probabilidades 🎲"
   ]
  },
  {
   "cell_type": "markdown",
   "metadata": {
    "id": "NGh3ahlqLwZO"
   },
   "source": [
    "## 🧑🏻‍💻 Item a)\n",
    "\n",
    "Descubra o número do Dataset associado ao seu Hash.\n"
   ]
  },
  {
   "cell_type": "code",
   "execution_count": null,
   "metadata": {},
   "outputs": [],
   "source": [
    "# A variável \"y_tot\" contém os rótulos (labels) das imagens no Dataset. \n",
    "# Sabendo que meu hash é 60, o código abaixo identifica o rótulo do Dataset correspondente ao meu hash.\n",
    "print(f\"O número do Dataset associado ao meu hash é: {y_tot[60]}.\")\n",
    "\n",
    "# Caso eu deseje visualizar a imagem associada ao meu hash no Dataset,\n",
    "# o código abaixo exibe a imagem correspondente com o rótulo indicado no título.\n",
    "plt.imshow(X_tot[60], cmap='gray')  # Exibe a imagem em escala de cinza.\n",
    "plt.title(f\"Dígito: {y_tot[60]}\")   # Mostra o rótulo da imagem como título.\n",
    "plt.axis('off')                     # Remove os eixos para uma exibição mais limpa.\n",
    "plt.show()"
   ]
  },
  {
   "cell_type": "markdown",
   "metadata": {
    "id": "lhFiXcpKRVMA"
   },
   "source": [
    "## 🔦 Item b)\n",
    "\n",
    "Determine, para a imagem vinculada ao seu Hash, qual é a Probabilidade de um píxel claro (128 - 225) para esta única imagem?"
   ]
  },
  {
   "cell_type": "code",
   "execution_count": null,
   "metadata": {
    "id": "WO_UkOyCRtvs"
   },
   "outputs": [],
   "source": [
    "# Inicializa a variável para contar o número de pixels claros.\n",
    "bright_pixels_number = 0\n",
    "\n",
    "# Calcula o total de pixels na imagem (28x28 é a dimensão padrão das imagens do Dataset).\n",
    "total_pixels_number = 28 * 28\n",
    "\n",
    "# Itera por cada linha de pixels na imagem associada ao hash (X_tot[60]).\n",
    "for line in X_tot[60]:\n",
    "    # Conta os pixels claros (valores >= 128) na linha e adiciona ao total.\n",
    "    bright_pixels_number += len(line[line >= 128])\n",
    "    \n",
    "# Calcula e exibe a probabilidade de um pixel ser claro, formatando o resultado como porcentagem.\n",
    "print(f\"Para a imagem vinculada ao meu Hash, a probabilidade de um pixel claro (128 - 255) \\\n",
    "ocorrer é de aproximadamente {((bright_pixels_number / total_pixels_number) * 100):.2f}%.\")"
   ]
  },
  {
   "cell_type": "markdown",
   "metadata": {
    "id": "O7I1XtkhRuTH"
   },
   "source": [
    "## ♟️ Item c)\n",
    "\n",
    "Qual é a probabilidade de um píxel ser claro dentre todos os píxeis que tem a mesma classe que a sua imagem obtida em a)?"
   ]
  },
  {
   "cell_type": "code",
   "execution_count": null,
   "metadata": {
    "id": "Wvg4-TnHStBN"
   },
   "outputs": [],
   "source": [
    "# Obtém os índices de todas as imagens no Dataset que pertencem à classe 1 (ou seja, possuem rótulo igual a 1).\n",
    "same_class_indexes = np.where(y_tot == 1)[0]\n",
    "\n",
    "# Inicializa a variável para contar o número total de pixels claros.\n",
    "bright_pixels_number = 0\n",
    "\n",
    "# Calcula o total de pixels considerando todas as imagens da mesma classe (28x28 pixels por imagem multiplicado pela\n",
    "# quantidade de imagens na classe).\n",
    "total_pixels_number = 28 * 28 * len(same_class_indexes)\n",
    "\n",
    "# Itera por cada índice das imagens pertencentes à classe 1.\n",
    "for index in same_class_indexes:\n",
    "    # Recupera a matriz de pixels da imagem correspondente ao índice atual.\n",
    "    element = X_tot[index]\n",
    "    # Conta os pixels claros (valores >= 128) na imagem atual e soma ao total acumulado.\n",
    "    bright_pixels_number += len(element[element >= 128])\n",
    "\n",
    "# Calcula e exibe a probabilidade de um pixel claro (128 - 255) ocorrer, formatando o resultado como porcentagem.\n",
    "print(f\"Para as imagens vinculadas à classe 1, a probabilidade de um pixel claro (128 - 255) \\\n",
    "ocorrer é de aproximadamente {((bright_pixels_number / total_pixels_number) * 100):.2f}%.\")\n"
   ]
  },
  {
   "cell_type": "markdown",
   "metadata": {
    "id": "dudVaTPOSrzd"
   },
   "source": [
    "---"
   ]
  },
  {
   "cell_type": "markdown",
   "metadata": {
    "id": "7a8k73BRHMJE"
   },
   "source": [
    "# 2️⃣ Tarefa 02: Análise Exploratória de Dados 📊"
   ]
  },
  {
   "cell_type": "markdown",
   "metadata": {
    "id": "AxW_LjGSJBk4"
   },
   "source": [
    "## ✨ Item a)\n",
    "\n",
    "Conte quantas vezes cada dígito (de 0 a 9) aparece e responda:\n",
    "\n",
    "1. Todos os dígitos aparecem a mesma quantidade?\n",
    "\n",
    "2. Qual o valor médio dos píxeis de cada dígito?"
   ]
  },
  {
   "cell_type": "code",
   "execution_count": null,
   "metadata": {
    "id": "BnjQQAATJUVr"
   },
   "outputs": [],
   "source": [
    "# Obtém todos os valores únicos de dígitos (rótulos) presentes no Dataset.\n",
    "unique_digits = np.unique(y_tot)\n",
    "\n",
    "# Itera por cada dígito único encontrado no Dataset.\n",
    "for digit in unique_digits:\n",
    "    # Obtém os índices das imagens que pertencem ao dígito atual.\n",
    "    digit_indexes = np.where(y_tot == digit)[0]\n",
    "    \n",
    "    # Inicializa a variável para acumular a soma dos valores dos pixels para o dígito atual.\n",
    "    pixels_sum = 0\n",
    "    \n",
    "    # Itera por cada índice associado ao dígito atual.\n",
    "    for index in digit_indexes:\n",
    "        # Soma os valores de todos os pixels da imagem atual ao total acumulado.\n",
    "        pixels_sum += np.sum(X_tot[index])\n",
    "    \n",
    "    # Exibe informações sobre o dígito atual.\n",
    "    print(f\"Informações sobre o dígito '{digit}':\")\n",
    "    \n",
    "    # Calcula o número de imagens no Dataset classificadas como o dígito atual.\n",
    "    digits_number = len(y_tot[y_tot == digit])\n",
    "    \n",
    "    # Exibe a quantidade de dígitos do tipo atual no Dataset.\n",
    "    print(f\"        Existem {digits_number} dígitos '{digit}' no Dataset.\")\n",
    "    \n",
    "    # Calcula e exibe o valor médio dos pixels das imagens do dígito atual.\n",
    "    print(f\"        O valor médio dos píxeis dos dígitos classificados como '{digit}' é aproximadamente {(pixels_sum) / (digits_number * 28 * 28):.2f}\\n\")\n"
   ]
  },
  {
   "cell_type": "markdown",
   "metadata": {},
   "source": [
    "--------------------------------------------------------------------------"
   ]
  },
  {
   "cell_type": "markdown",
   "metadata": {
    "id": "jpfIZzxlMDsX"
   },
   "source": [
    "##### ***Resposta 01:***\n",
    "\n",
    "***O Dataset em questão possui:***\n",
    "\n",
    "- ***5920 iguais dígitos à '0'.***\n",
    "\n",
    "\n",
    "- ***6725 iguais dígitos à '1'.***\n",
    "\n",
    "\n",
    "- ***6023 iguais dígitos à '2'.***\n",
    "\n",
    "\n",
    "- ***6107 iguais dígitos à '3'.***\n",
    "\n",
    "\n",
    "- ***5918 iguais dígitos à '4'.***\n",
    "\n",
    "\n",
    "- ***5376 iguais dígitos à '5'.***\n",
    "  \n",
    "\n",
    "- ***5915 iguais dígitos à '6'.***\n",
    "\n",
    "\n",
    "- ***6238 iguais dígitos à '7'.***\n",
    "\n",
    "\n",
    "- ***5856 iguais dígitos à '8'.***\n",
    "\n",
    "\n",
    "- ***5922 iguais dígitos à '9'.***\n",
    "\n",
    "--------------------------------------------------------------------------"
   ]
  },
  {
   "cell_type": "markdown",
   "metadata": {
    "id": "1tUHVN9uMGdy"
   },
   "source": [
    "##### ***Resposta 02:***\n",
    "\n",
    "***Não, os dígitos aparecem em diferentes quantidades.***\n",
    "\n",
    "--------------------------------------------------------------------------"
   ]
  },
  {
   "cell_type": "markdown",
   "metadata": {
    "id": "Prl_N5YMMIXr"
   },
   "source": [
    "##### ***Resposta 03:*** \n",
    "\n",
    "- ***O valor médio dos píxeis cujos dígitos são classificados como '0' é, aproximadamente: 44.23.***\n",
    "\n",
    "\n",
    "- ***O valor médio dos píxeis cujos dígitos são classificados como '1' é, aproximadamente: 19.40.***\n",
    "\n",
    "\n",
    "- ***O valor médio dos píxeis cujos dígitos são classificados como '2' é, aproximadamente: 38.02.***\n",
    "\n",
    "\n",
    "- ***O valor médio dos píxeis cujos dígitos são classificados como '3' é, aproximadamente: 36.23.***\n",
    "\n",
    "\n",
    "- ***O valor médio dos píxeis cujos dígitos são classificados como '4' é, aproximadamente: 31.04.***\n",
    "\n",
    "\n",
    "- ***O valor médio dos píxeis cujos dígitos são classificados como '5' é, aproximadamente: 32.92.***\n",
    "\n",
    "\n",
    "- ***O valor médio dos píxeis cujos dígitos são classificados como '6' é, aproximadamente: 35.24.***\n",
    "\n",
    "\n",
    "- ***O valor médio dos píxeis cujos dígitos são classificados como '7' é, aproximadamente: 29.26.***\n",
    "\n",
    "\n",
    "- ***O valor médio dos píxeis cujos dígitos são classificados como '8' é, aproximadamente: 38.40.***\n",
    "\n",
    "\n",
    "- ***O valor médio dos píxeis cujos dígitos são classificados como '9' é, aproximadamente: 31.34.***\n",
    "\n",
    "--------------------------------------------------------------------------"
   ]
  },
  {
   "cell_type": "markdown",
   "metadata": {
    "id": "eX5d6s4EJTf8"
   },
   "source": [
    "## 📏 Item b)\n",
    "\n",
    "Faça um histograma que mostre a distribuição dos valores dos píxeis para cada dígito. Há muitos valores que são “apagados” (ou seja, com valor 0) ou a distribuição dos valores é mais equilibrada entre os dígitos?\n"
   ]
  },
  {
   "cell_type": "code",
   "execution_count": null,
   "metadata": {},
   "outputs": [],
   "source": [
    "# Cria uma lista onde cada posição `i` contém um array unidimensional com todos os valores de pixels das imagens classificadas como o dígito `i`.\n",
    "# Por exemplo, o índice 0 armazena um array com os valores de pixels de todas as imagens classificadas como 0. \n",
    "results = [X_tot[y_tot == digit].reshape(-1) for digit in np.unique(y_tot)]\n",
    "\n",
    "\n",
    "# Nota mental: O numpy é eficiente para operações vetorizadas. Portanto, é sempre melhor usar tais operações ao invês de laços explícitos."
   ]
  },
  {
   "cell_type": "code",
   "execution_count": null,
   "metadata": {},
   "outputs": [],
   "source": [
    "def plot_histogram(data: pd.Series, title: Optional[str] = \"\", xaxis_title: Optional[str] = \"\", yaxis_title: Optional[str] = \"\") -> None:\n",
    "    '''\n",
    "        Descrição:\n",
    "            Essa função plota um histograma a partir do conjunto de dados (pd.Series) recebido como parâmetro.\n",
    "        Argumentos:\n",
    "            data (pd.Series): O conjunto de dados a ser visualizado como histograma.\n",
    "            title (str): Título do histograma. Por padrão, é uma string vazia.\n",
    "            xaxis_title (str): Rótulo para o eixo x. Por padrão, é uma string vazia.\n",
    "            yaxis_title (str): Rótulo para o eixo y. Por padrão, é uma string vazia.\n",
    "        Retorno:\n",
    "            None: A função gera e exibe o histograma, mas não retorna nenhum valor.\n",
    "    '''\n",
    "    \n",
    "    # Cria um objeto `Figure` para construir o histograma.\n",
    "    fig = go.Figure(\n",
    "        # Adiciona os dados ao histograma.\n",
    "        data=[go.Histogram(\n",
    "            x=data,     # O eixo x recebe os valores do conjunto de dados (pd.Series) recebido como parâmetro.\n",
    "            nbinsx=20   # O número de intervalos (bins) é configurado como 20.\n",
    "        )]\n",
    "    )\n",
    "\n",
    "    # Atualiza o layout do plot.\n",
    "    fig.update_layout(\n",
    "        # Define o título do plot.\n",
    "        title=title,\n",
    "        # Define o rótulo para o eixo x.\n",
    "        xaxis_title=xaxis_title,\n",
    "        # Define o rótulo para o eixo y.\n",
    "        yaxis_title=yaxis_title,\n",
    "        # Ajusta o espaço entre as barras no histograma.\n",
    "        bargap=0.1\n",
    "    )\n",
    "\n",
    "    # Exibe o histograma.\n",
    "    fig.show()"
   ]
  },
  {
   "cell_type": "code",
   "execution_count": null,
   "metadata": {},
   "outputs": [],
   "source": [
    "# Para cada dígito único na lista `unique_digits`, gera e exibe um histograma que mostra a distribuição \n",
    "# dos valores dos pixels associados a esse dígito.\n",
    "for digit in unique_digits:\n",
    "    plot_histogram(results[digit], f\"Distribuição dos valores dos píxeis do dígito {digit}\", \"Valores\", \"Quantidade\")"
   ]
  },
  {
   "cell_type": "markdown",
   "metadata": {
    "id": "jgl92AXbJR9B"
   },
   "source": [
    "## 🤓 Item c)\n",
    "\n",
    "Crie uma imagem para cada dígito (de 0 a 9) em que cada píxel dessa nova imagem representa a média do valor dos píxeis para aquela classe. Você consegue reconhecer os dígitos nas imagens criadas?"
   ]
  },
  {
   "cell_type": "code",
   "execution_count": null,
   "metadata": {
    "id": "hv4CKY55JVkx"
   },
   "outputs": [],
   "source": []
  },
  {
   "cell_type": "code",
   "execution_count": null,
   "metadata": {
    "id": "xuy1gZFcJVnc"
   },
   "outputs": [],
   "source": []
  },
  {
   "cell_type": "code",
   "execution_count": null,
   "metadata": {
    "id": "H1w4-cPCJVqT"
   },
   "outputs": [],
   "source": []
  },
  {
   "cell_type": "markdown",
   "metadata": {
    "id": "uJ-YKsEWJOhZ"
   },
   "source": [
    "---"
   ]
  },
  {
   "cell_type": "markdown",
   "metadata": {
    "id": "OLzAAnAGHQYx"
   },
   "source": [
    "# 3️⃣ Tarefa 03: Treinamento e Teste de Modelos 🤖"
   ]
  },
  {
   "cell_type": "markdown",
   "metadata": {
    "id": "vGx_wlftUhq_"
   },
   "source": [
    "## 📈 Item a)\n",
    "\n",
    "Treine a ANN1 com 784 entradas, 8 neurônios na 1⁠ª camada oculta, 8 neurônios na 2⁠ª camada oculta e 10 saídas. Utilize 5 épocas para o treinamento. Use a biblioteca `scikit-learn`:\n",
    "\n",
    "- Input Layer: 784 entradas (28x28);\n",
    "- Hidden Layer 1: 8 neurônios;\n",
    "- Hidden Layer 2: 8 neurônios;\n",
    "- Output Layer: 10 saídas; (Classificador 0-9)\n",
    "- Treine com 10 épocas."
   ]
  },
  {
   "cell_type": "code",
   "execution_count": null,
   "metadata": {},
   "outputs": [],
   "source": [
    "# Cria cópias dos arrays X_tot e y_tot e os atribui a X e y, respectivamente, para garantir que as variáveis originais não sejam modificadas\n",
    "# durante o processamento.\n",
    "X, y = np.copy(X_tot), np.copy(y_tot)"
   ]
  },
  {
   "cell_type": "code",
   "execution_count": null,
   "metadata": {
    "id": "vj6cAvy-ZPiy"
   },
   "outputs": [],
   "source": [
    "# Divide os dados em conjuntos de treinamento (80%) e teste (20%) de forma aleatória.\n",
    "# X e y são as features e rótulos, respectivamente. A semente random_state=10 garante reprodutibilidade dos resultados.\n",
    "X_train, X_test, y_train, y_test = train_test_split(X, y, test_size=0.2, random_state=10)"
   ]
  },
  {
   "cell_type": "code",
   "execution_count": null,
   "metadata": {},
   "outputs": [],
   "source": [
    "# Redimensiona o conjunto de dados de treinamento (X_train) para transformá-lo em um array 2D. Originalmente, cada imagem no MNIST \n",
    "# tem forma 28x28 (uma matriz 2D).  O método reshape altera essa forma para um vetor unidimensional (1D) com 28*28 = 784 elementos. O parâmetro \n",
    "# `-1` calcula automaticamente o número de colunas necessárias, preservando o número de amostras (linhas).\n",
    "X_train = X_train.reshape(X_train.shape[0], -1)\n",
    "\n",
    "# Redimensiona o conjunto de dados de teste (X_test) da mesma maneira que o conjunto de treinamento.\n",
    "# Isso garante que os dados de entrada estejam no mesmo formato (vetores 1D com 784 elementos por exemplo).\n",
    "X_test = X_test.reshape(X_test.shape[0], -1)\n",
    "\n",
    "# Observação:\n",
    "# Esse redimensionamento é necessário porque muitos modelos de machine learning, como redes neurais ou classificadores do scikit-learn,\n",
    "# esperam dados em forma de vetores 1D, em vez de matrizes 2D ou imagens estruturadas."
   ]
  },
  {
   "cell_type": "code",
   "execution_count": null,
   "metadata": {
    "id": "U-lDDeAfZPlK"
   },
   "outputs": [],
   "source": [
    "# Cria o objeto MinMaxScaler, que normaliza os dados para a faixa [0, 1].\n",
    "scaler = MinMaxScaler()\n",
    "\n",
    "# Aplica a normalização nos dados de treinamento, ajustando o scaler aos dados e transformando-os.\n",
    "X_train = scaler.fit_transform(X_train)\n",
    "\n",
    "# Aplica a normalização nos dados de teste, utilizando os parâmetros calculados a partir dos dados de treinamento.\n",
    "X_test = scaler.transform(X_test)"
   ]
  },
  {
   "cell_type": "code",
   "execution_count": null,
   "metadata": {},
   "outputs": [],
   "source": [
    "# Cria o primeiro modelo de rede neural, usando o MLPClassifier (MultiLayer Perceptron Classifier) do scikit-learn para tal.\n",
    "mlp_1 = MLPClassifier(\n",
    "    hidden_layer_sizes=(8, 8),  # Define duas camadas ocultas (hidden layers), cada uma com 8 neurônios.\n",
    "    activation='relu',          # Define a função de ativação como ReLU (Rectified Linear Unit).\n",
    "    solver='adam',              # Utiliza o otimizador Adam para ajustar os pesos durante o treinamento.\n",
    "    max_iter=10,                # Define o número máximo de iterações do otimizador (similar ao número de épocas em outros frameworks).\n",
    "    validation_fraction=0.1,    # Reserva 10% dos dados de treinamento para validação durante o treinamento.\n",
    "    early_stopping=True,        # Interrompe o treinamento se a pontuação no conjunto de validação não melhorar por um número consecutivo de iterações (paciência padrão = 10).\n",
    "    random_state=10             # Define a semente para reprodutibilidade dos resultados, garantindo que os pesos iniciais e a divisão de validação sejam consistentes entre execuções.\n",
    ")\n",
    "\n",
    "# Treina o modelo com os dados de treino.\n",
    "mlp_1.fit(X_train, y_train) \n",
    "\n",
    "# Observações: \n",
    "# 1. A input layer já é automaticamente configurada dentro do MLPClassifier como sendo o número total \n",
    "#    de features (atributos) no conjunto de dados de entrada. Ou seja, o número de neurônios na camada de entrada\n",
    "#    será igual ao número de colunas (features) em X_train, que é 784 (28 x 28).\n",
    "# 2. A função de saída padrão do MLPClassifier para problemas de classificação multiclasse é a \n",
    "#    função softmax. Ela gera uma probabilidade para cada classe, e a classe com a maior probabilidade \n",
    "#    é escolhida como a previsão."
   ]
  },
  {
   "cell_type": "code",
   "execution_count": null,
   "metadata": {},
   "outputs": [],
   "source": [
    "# Realiza as previsões usando a ANN1.\n",
    "y_pred_1 = mlp_1.predict(X_test)"
   ]
  },
  {
   "cell_type": "markdown",
   "metadata": {
    "id": "DVaSP7OGXD2d"
   },
   "source": [
    "## 📉 Item b)\n",
    "\n",
    "Treine a ANN2 com 784 entradas, 256 neurônios na 1⁠ª camada oculta, 256 neurônios na 2⁠ª camada oculta, 256 neurônios na 3ª camada oculta, 256 neurônios na 4ª camada oculta e 10 saídas. Utilize 20 épocas dessa vez. Use a biblioteca `scikit-learn`.\n",
    "\n",
    "- Input Layer: 784 entradas (28x28);\n",
    "- Hidden Layer 1: 256 neurônios;\n",
    "- Hidden Layer 2: 256 neurônios;\n",
    "- Hidden Layer 3: 256 neurônios;\n",
    "- Hidden Layer 4: 256 neurônios;\n",
    "- Output Layer: 10 saídas; (Classificação 0-9)\n",
    "- Treine com 20 épocas."
   ]
  },
  {
   "cell_type": "code",
   "execution_count": null,
   "metadata": {},
   "outputs": [],
   "source": [
    "# Calcula a variação percentual na curva de perda entre a época 5 e a última época\n",
    "loss_curve_1_pct_change = ((mlp_1_loss_curve_values[5] - mlp_1_loss_curve_values[len(mlp_1_loss_curve_values) - 1]) / mlp_1_loss_curve_values[5]) * 100\n",
    "\n",
    "# Calcula a variação percentual na pontuação de validação (acurácia) entre a época 5 e a última época\n",
    "validation_scores_1_pct_change = ((mlp_1_validation_scores[5] - mlp_1_validation_scores[len(mlp_1_validation_scores) - 1]) / mlp_1_validation_scores[5]) * 100\n",
    "\n",
    "# Exibe a queda percentual na curva de perda entre a época 5 e a última época\n",
    "print(f\"Entre a época 5 e a época {len(mlp_1_loss_curve_values)-1} houve uma queda de {loss_curve_1_pct_change:.2f}% na curva de perda.\\n\")\n",
    "\n",
    "# Exibe o aumento percentual na acurácia entre a época 5 e a última época (o sinal negativo é invertido para apresentar um aumento positivo)\n",
    "print(f\"Entre a época 5 e a época {len(mlp_1_validation_scores)-1} houve um aumento de {-validation_scores_1_pct_change:.2f}% na acurácia.\")"
   ]
  },
  {
   "cell_type": "code",
   "execution_count": null,
   "metadata": {
    "id": "T8HddFrTZP8P"
   },
   "outputs": [],
   "source": [
    "# Cria o segundo modelo de rede neural, usando o MLPClassifier (MultiLayer Perceptron Classifier) do scikit-learn para tal.\n",
    "mlp_2 = MLPClassifier(\n",
    "    hidden_layer_sizes=(256, 256, 256, 256),  # Define quatro camadas ocultas (hidden layers), cada uma com 256 neurônios.\n",
    "    activation='relu',                        # Define a função de ativação como ReLU (Rectified Linear Unit).\n",
    "    solver='adam',                            # Utiliza o otimizador Adam para ajustar os pesos durante o treinamento.\n",
    "    max_iter=20,                              # Define o número máximo de iterações do otimizador (similar ao número de épocas em outros frameworks).\n",
    "    validation_fraction=0.1,                  # Reserva 10% dos dados de treinamento para validação durante o treinamento.\n",
    "    early_stopping=True,                      # Interrompe o treinamento se a pontuação no conjunto de validação não melhorar por um número consecutivo de iterações (paciência padrão = 10).\n",
    "    random_state=10                           # Define a semente para reprodutibilidade dos resultados, garantindo que os pesos iniciais e a divisão de validação sejam consistentes entre execuções.\n",
    ")\n",
    "\n",
    "# Treina o modelo com os dados de treino.\n",
    "mlp_2.fit(X_train, y_train) \n",
    "\n",
    "# Observações: \n",
    "# 1. A input layer já é automaticamente configurada dentro do MLPClassifier como sendo o número total \n",
    "#    de features (atributos) no conjunto de dados de entrada. Ou seja, o número de neurônios na camada de entrada\n",
    "#    será igual ao número de colunas (features) em X_train, que é 784 (28 x 28).\n",
    "# 2. A função de saída padrão do MLPClassifier para problemas de classificação multiclasse é a \n",
    "#    função softmax. Ela gera uma probabilidade para cada classe, e a classe com a maior probabilidade \n",
    "#    é escolhida como a previsão."
   ]
  },
  {
   "cell_type": "code",
   "execution_count": null,
   "metadata": {
    "id": "k21D57OzZP_K"
   },
   "outputs": [],
   "source": [
    "# Realiza as previsões usando a ANN2.\n",
    "y_pred_2 = mlp_2.predict(X_test)"
   ]
  },
  {
   "cell_type": "markdown",
   "metadata": {
    "id": "me4UkIkmXCkJ"
   },
   "source": [
    "## ⚙️ Item c)\n",
    "\n",
    "Agora você treinará um novo modelo, mais adequado. Para isso, gere ao menos 5 configurações de redes neurais, variando o número de camadas ocultas, o número de neurônios e o número de épocas. As configurações devem estar intermediárias entre `[8, 8]` e `[256, 256, 256, 256]`.\n",
    "\n",
    "Utilize a função `GridSearchCV` para realizar uma busca exaustiva pelos hiperparâmetros e encontre a configuração que oferece o melhor classificador, justificando sua escolha com base nas métricas de validação."
   ]
  },
  {
   "cell_type": "code",
   "execution_count": null,
   "metadata": {
    "id": "3tsEhq4XZQaG"
   },
   "outputs": [],
   "source": [
    "# Define o modelo base (MLPClassifier - MultiLayer Perceptron Classifier) a ser usado no GridSearchCV.\n",
    "mlp = MLPClassifier(random_state=10, early_stopping=True)\n",
    "\n",
    "# Define os parâmetros para a busca em grade.\n",
    "param_grid = {\n",
    "    'hidden_layer_sizes': [(8, 8), (64, 64, 64), (128,128,128), (256, 256, 256, 256)],  # Define os conjuntos de camadas que serão testados.\n",
    "    'activation': ['relu'],                                                             # Define as funções de ativação que serão testadas. \n",
    "    'solver': ['adam'],                                                                 # Define os otimizadores que serão testados.\n",
    "    'max_iter': [10, 50, 100, 200],                                                     # Define os números de iterações (épocas) que serão testados.\n",
    "}\n",
    "\n",
    "# Cria uma instância do GridSearchCV usando as variáveis definidas acima.\n",
    "grid_search = GridSearchCV(estimator=mlp, param_grid=param_grid, cv=3, n_jobs=-1, verbose=2)\n",
    "\n",
    "# Treina o modelo usando GridSearchCV, visando encontrar a melhor combinação dentre as \n",
    "# possíveis configurações de hiperparâmetros definidas na variável `param_grid`.\n",
    "grid_search.fit(X_train, y_train)"
   ]
  },
  {
   "cell_type": "code",
   "execution_count": null,
   "metadata": {
    "id": "l03osQlrZQc3"
   },
   "outputs": [],
   "source": [
    "# Exibe os melhores hiperparâmetros encontrados.\n",
    "print(\"Melhores hiperparâmetros encontrados: \", grid_search.best_params_)\n",
    "\n",
    "print()\n",
    "\n",
    "# Exibe a acurácia do modelo com os melhores hiperparâmetros.\n",
    "print(\"Acurácia do modelo com os melhores hiperparâmetros (no conjunto de teste): \", grid_search.score(X_test, y_test))"
   ]
  },
  {
   "cell_type": "markdown",
   "metadata": {},
   "source": [
    "*Note que o modelo com os hiperparâmetros otimizados pelo GridSearchCV apresenta uma acurácia ligeiramente superior à do segundo modelo (ANN2). Considerando que ambos possuem a mesma configuração de camadas e diferem apenas no número de épocas, faz sentido classificar o modelo ajustado pelo GridSearchCV como o melhor entre os dois, devido ao seu desempenho ligeiramente superior.*"
   ]
  },
  {
   "cell_type": "code",
   "execution_count": null,
   "metadata": {
    "id": "-28FKAyEZQe5"
   },
   "outputs": [],
   "source": [
    "# Cria o modelo de rede neural utilizando o MLPClassifier (Multi-Layer Perceptron Classifier) do scikit-learn, \n",
    "# configurado com os melhores hiperparâmetros  obtidos através da busca exaustiva realizada pelo GridSearchCV.\n",
    "best_mlp = MLPClassifier(\n",
    "    hidden_layer_sizes=(256, 256, 256, 256),  # Define quatro camadas ocultas (hidden layers), cada uma com 256 neurônios.\n",
    "    activation='relu',                        # Define a função de ativação como ReLU (Rectified Linear Unit).\n",
    "    solver='adam',                            # Utiliza o otimizador Adam para ajustar os pesos durante o treinamento.\n",
    "    max_iter=50,                              # Define o número máximo de iterações do otimizador (similar ao número de épocas em outros frameworks).\n",
    "    validation_fraction=0.1,                  # Reserva 10% dos dados de treinamento para validação durante o treinamento.\n",
    "    early_stopping=True,                      # Interrompe o treinamento se a pontuação no conjunto de validação não melhorar por um número consecutivo de iterações (paciência padrão = 10).\n",
    "    random_state=10                           # Define a semente para reprodutibilidade dos resultados, garantindo que os pesos iniciais e a divisão de validação sejam consistentes entre execuções.\n",
    ")\n",
    "\n",
    "# Treina o modelo com os dados de treino.\n",
    "best_mlp.fit(X_train,y_train)"
   ]
  },
  {
   "cell_type": "code",
   "execution_count": null,
   "metadata": {},
   "outputs": [],
   "source": [
    "# Realiza as previsões usando a melhor ANN encontrada.\n",
    "best_y_pred = best_mlp.predict(X_test)"
   ]
  },
  {
   "cell_type": "markdown",
   "metadata": {
    "id": "EkOTVK9WXBHT"
   },
   "source": [
    "## 🔧 Item d)\n",
    "\n",
    "Para os modelos treinados nas questões a) e b), além do classificador encontrado na questão c), compare o desempenho dos modelos, analisando se apresentam *underfitting* ou *overfitting*. Justifique com gráficos e análises.\n"
   ]
  },
  {
   "cell_type": "markdown",
   "metadata": {},
   "source": [
    "#### *Comparando o desempenho dos modelos*"
   ]
  },
  {
   "cell_type": "code",
   "execution_count": null,
   "metadata": {},
   "outputs": [],
   "source": [
    "# Calcula e exibe a acurácia do modelo ANN1 utilizando as predições y_pred_1.\n",
    "accuracy_1 = accuracy_score(y_test, y_pred_1)\n",
    "print(f\"Acurácia da ANN1: {accuracy_1}\\n\")\n",
    "\n",
    "# Calcula e exibe a acurácia do modelo ANN2 utilizando as predições y_pred_2.\n",
    "accuracy_2 = accuracy_score(y_test, y_pred_2)\n",
    "print(f\"Acurácia da ANN2: {accuracy_2}\\n\")\n",
    "\n",
    "# Calcula e exibe a acurácia do melhor modelo de rede neural encontrado.\n",
    "best_accuracy = accuracy_score(y_test, best_y_pred)\n",
    "print(f\"Acurácia da melhor ANN encontrada: {best_accuracy}\\n\")"
   ]
  },
  {
   "cell_type": "markdown",
   "metadata": {},
   "source": [
    "*Com base nas acurácias obtidas, podemos comparar o desempenho dos modelos da seguinte maneira:*\n",
    "\n",
    "*- **ANN1 (~ 0.9098 accuracy):** Obteve uma acurácia de aproximadamente 91%, o que indica um desempenho bom, porém inferior aos outros modelos testados.*\n",
    "\n",
    "*- **ANN2 (~ 0.9784 accuracy):** Apresentou uma melhoria significativa, com acurácia de 97,8%. Essa melhoria sugere que o aumento no número de camadas, neurônios por camada e épocas contribuiu para uma maior eficiência na tarefa de classificação.*\n",
    "\n",
    "*- **Melhor ANN Encontrada (~ 0.9822 accuracy):** Com uma acurácia de 98,2%, este modelo superou os outros, indicando que o ajuste fino dos hiperparâmetros via GridSearchCV (como o aumento de 20 para 50 épocas) otimizou ainda mais seu desempenho, tornando-o o mais preciso dos três.*"
   ]
  },
  {
   "cell_type": "code",
   "execution_count": null,
   "metadata": {},
   "outputs": [],
   "source": [
    "# Printa um relatório detalhado dos resultados da classificação feita pela ANN1.\n",
    "print(classification_report(y_test, y_pred_1))"
   ]
  },
  {
   "cell_type": "code",
   "execution_count": null,
   "metadata": {},
   "outputs": [],
   "source": [
    "# Printa um relatório detalhado dos resultados da classificação feita pela ANN2.\n",
    "print(classification_report(y_test, y_pred_2))"
   ]
  },
  {
   "cell_type": "code",
   "execution_count": null,
   "metadata": {},
   "outputs": [],
   "source": [
    "# Printa um relatório detalhado dos resultados da classificação feita pela melhor ANN encontrada.\n",
    "print(classification_report(y_test, best_y_pred))"
   ]
  },
  {
   "cell_type": "markdown",
   "metadata": {},
   "source": [
    "***ANN1 - MLP com 2 Camadas Ocultas (8 neurônios por camada + 10 epochs):***\n",
    "\n",
    "*O primeiro modelo, utilizando um MLPClassifier com duas camadas ocultas de 8 neurônios cada, apresentou um desempenho geral bom, com uma acurácia de 91%. As classes 0 e 1 obtiveram os melhores resultados, com precisão e recall superiores a 0,95. Por outro lado, as classes 5 e 8 tiveram o pior desempenho, com ambos os indicadores em torno de 0,87. As demais classes apresentaram resultados um pouco mais consistentes, com valores de precisão e recall variando entre 0,88 e 0,93.*\n",
    "\n",
    "***ANN2 - MLP com 4 Camadas Ocultas (256 neurônios por camada + 20 epochs):***\n",
    "\n",
    "*O segundo modelo, utilizando um MLPClassifier com quatro camadas ocultas de 256 neurônios cada, apresentou um desempenho significativamente superior ao primeiro. A acurácia aumentou para 98%, enquanto o recall e o F1-score também atingiram 0,98. A maioria das classes registrou valores de precisão e recall próximos a 0,98, com exceção das classes 8 e 9, que, embora ainda ligeiramente inferiores, exibiram melhorias substanciais em relação ao primeiro modelo.*\n",
    "\n",
    "***Melhor ANN encontrada - MLP com 4 Camadas Ocultas (256 neurônios por camada + 50 epochs):***\n",
    "\n",
    "*O terceiro modelo é uma versão do MLPClassifier com a mesma arquitetura do segundo modelo (quatro camadas ocultas de 256 neurônios), mas treinado com um número maior de épocas. Esse modelo alcançou uma acurácia de 98%, apresentando desempenho quase idêntico ao segundo, porém com pequenas melhorias nos índices de precisão e recall para as classes 8 e 9.*\n",
    "\n",
    "*Em resumo, o terceiro modelo, com uma arquitetura maior e mais épocas de treinamento, apresentou um salto significativo em desempenho em relação ao primeiro modelo e uma leve vantagem sobre o segundo, consolidando-se como o melhor entre os três. O segundo modelo, por sua vez, também mostrou uma grande melhora em comparação ao primeiro, que, apesar de ser o menos eficiente, ainda alcançou mais de 90% de acurácia e pode ser considerado satisfatório.*"
   ]
  },
  {
   "cell_type": "markdown",
   "metadata": {},
   "source": [
    "#### *Analisando se os modelos apresentam underfitting ou overfitting*"
   ]
  },
  {
   "cell_type": "code",
   "execution_count": null,
   "metadata": {
    "id": "Q2GOevKqZQ4g"
   },
   "outputs": [],
   "source": [
    "def plot_multiples_time_series_line_graphs(data_list: list, serie_title: Optional[str] = \"\", serie_xaxis_title: Optional[str] = \"\", \n",
    "                               serie_yaxis_title: Optional[str] = \"\", annotation_text: Optional[str] = \"\") -> None:\n",
    "    '''\n",
    "        Description:\n",
    "            Esta função exibe em um mesmo plot múltiplos gráficos de séries temporais. \n",
    "        Args:\n",
    "            data_list (list): Lista contendo as séries temporais cujos gráficos serão exibidos no plot. Os valores de tais séries temporais\n",
    "                              estarão no eixo y, enquanto os índices dessas séries estarão no eixo x.\n",
    "            title (string) [Optional]: Título do plot.\n",
    "            xaxis_title (string) [Optional]: Título do eixo x do plot.\n",
    "            yaxis_title (string) [Optional]: Título do eixo y do plot.\n",
    "        Return:\n",
    "            None: A função exibe os gráficos, mas não retorna nenhum valor.  \n",
    "        Errors:\n",
    "            TypeError: É esperado que todas os elementos da lista \"data_list\" sejam objetos do tipo pd.Series, isto é, que sejam séries temporais.\n",
    "            ValueError: É esperado que todas as séries temporais presentes na variável \"data_list\" possuam os mesmos índices. \n",
    "            TypeError: É esperado que todas as séries temporais presentes na variável data_list possuam um atributo \"name\".\n",
    "    '''    \n",
    "\n",
    "    # Verifica se todos os elementos presentes na lista \"data_list\" são séries temporais.\n",
    "    are_all_data_time_series = all(isinstance(df, pd.Series) for df in data_list)\n",
    "    \n",
    "    # Retorna um erro caso algum dos dados presentes na variável \"data_list\" não seja uma série temporal\n",
    "    if not are_all_data_time_series:\n",
    "        raise TypeError(\"Todos os dados presentes no parâmetro 'data_list' devem ser séries temporais.\")\n",
    "    \n",
    "    # Verifica se as séries temporais presentes na variável \"data_list\" possuem os mesmos índices.\n",
    "    are_all_index_equal = all(df.index.equals(data_list[0].index) for df in data_list)\n",
    "    \n",
    "    # Retorna um erro caso as séries temporais possuam índices diferentes.\n",
    "    if not are_all_index_equal:\n",
    "        raise ValueError(\"Todos as séries temporais devem possuir os mesmos índices.\")\n",
    "    \n",
    "    # Verifica se todas as séries temporais presentes na variável \"data_list\" possuem o atributo \"name\".\n",
    "    all_time_series_have_names = all(hasattr(df,\"name\") for df in data_list)\n",
    "    \n",
    "    # Retorna um erro caso uma das séries temporais presentes na variável \"data_list\" não possua o atributo \"name\".\n",
    "    if not all_time_series_have_names:\n",
    "        raise TypeError(\"Todas as séries temporais devem possuir o atributo 'name'\")\n",
    "    \n",
    "    # Cria uma lista de timestamps que representará o eixo x do gráfico que será plotado.\n",
    "    x_axis = data_list[0].index.tolist() # Observe que só podemos fazer isso pois temos certeza que todas as séries temporais possuem os mesmos índices.\n",
    "    # Cria a figura onde será plotado o gráfico.\n",
    "    fig = go.Figure()\n",
    "\n",
    "    # Adiciona cada série temporal ao gráfico.\n",
    "    for time_serie in data_list:\n",
    "        # Plota o gráfico (Data x Valor da Ação) do ticker em questão.\n",
    "        fig.add_trace(go.Scatter(x=x_axis, y=time_serie.values, mode=\"lines\", name=time_serie.name))\n",
    "    \n",
    "    # Adiciona a anotação ao gráfico\n",
    "    fig.add_annotation(\n",
    "        x=1, y=1, \n",
    "        text=annotation_text, \n",
    "        showarrow=False, \n",
    "        font=dict(size=12, color=\"black\"), \n",
    "        align=\"center\", \n",
    "        xref=\"paper\", yref=\"paper\", \n",
    "        bgcolor=\"white\", opacity=0.7\n",
    "    )\n",
    "    \n",
    "    # Atualiza o layout para permitir destaque ao clicar na legenda.\n",
    "    fig.update_layout(\n",
    "        # Seta um título para o plot.\n",
    "        title=serie_title,\n",
    "        # Seta um título para o eixo x do plot.\n",
    "        xaxis_title=serie_xaxis_title,\n",
    "        # Seta um título para o eixo y do plot.\n",
    "        yaxis_title=serie_yaxis_title  \n",
    "    )\n",
    "\n",
    "    # Exibe o gráfico criado.\n",
    "    fig.show()"
   ]
  },
  {
   "cell_type": "code",
   "execution_count": null,
   "metadata": {},
   "outputs": [],
   "source": [
    "# Converte a curva de perda do modelo MLP 1 para um objeto Pd.Series e o nomeia como \"MLP 1 Loss Curve\"\n",
    "mlp_1_loss_curve_values = pd.Series(mlp_1.loss_curve_)\n",
    "mlp_1_loss_curve_values.name = \"MLP 1 Loss Curve\"\n",
    "\n",
    "# Converte as pontuações de validação do modelo MLP 1 para um objeto Pd.Series e o nomeia como \"MLP 1 Validation Scores\"\n",
    "mlp_1_validation_scores = pd.Series(mlp_1.validation_scores_)\n",
    "mlp_1_validation_scores.name = \"MLP 1 Validation Scores\"\n",
    "\n",
    "# Converte a curva de perda do modelo MLP 2 para um objeto Pd.Series e o nomeia como \"MLP 2 Loss Curve\"\n",
    "mlp_2_loss_curve_values = pd.Series(mlp_2.loss_curve_)\n",
    "mlp_2_loss_curve_values.name = \"MLP 2 Loss Curve\"\n",
    "\n",
    "# Converte as pontuações de validação do modelo MLP 2 para um objeto Pd.Series e o nomeia como \"MLP 2 Validation Scores\"\n",
    "mlp_2_validation_scores = pd.Series(mlp_2.validation_scores_)\n",
    "mlp_2_validation_scores.name = \"MLP 2 Validation Scores\"\n",
    "\n",
    "# Converte a curva de perda do melhor modelo MLP encontrado para um objeto Pd.Series e o nomeia como \"Best MLP Loss Curve\"\n",
    "best_mlp_loss_curve_values = pd.Series(best_mlp.loss_curve_)\n",
    "best_mlp_loss_curve_values.name = \"Best MLP Loss Curve\"\n",
    "\n",
    "# Converte as pontuações de validação do melhor modelo MLP encontrado para um objeto Pd.Series e o nomeia como \"Best MLP Validation Scores\"\n",
    "best_mlp_validation_scores = pd.Series(best_mlp.validation_scores_)\n",
    "best_mlp_validation_scores.name = \"Best MLP Validation Scores\""
   ]
  },
  {
   "cell_type": "code",
   "execution_count": null,
   "metadata": {},
   "outputs": [],
   "source": [
    "# Esta função plota duas séries temporais (curva de perda e pontuação de validação) para o modelo MLP 1, de modo a podermos visualizar\n",
    "# o desempenho desse modelo ao longo das épocas. O eixo X representa as épocas e o eixo Y mostra os valores correspondentes de perda e \n",
    "# pontuação de validação.\n",
    "plot_multiples_time_series_line_graphs([mlp_1_loss_curve_values, mlp_1_validation_scores], \"Loss Curve vs Validation Scores for the MLP 1\", \"Epoch\", \"Value\")"
   ]
  },
  {
   "cell_type": "markdown",
   "metadata": {},
   "source": [
    "*De ínicio, observe a saída da célula abaixo:*"
   ]
  },
  {
   "cell_type": "code",
   "execution_count": null,
   "metadata": {},
   "outputs": [],
   "source": [
    "# Calcula a variação percentual na curva de perda entre a época 5 e a última época\n",
    "loss_curve_1_pct_change = ((mlp_1_loss_curve_values[5] - mlp_1_loss_curve_values[len(mlp_1_loss_curve_values) - 1]) / mlp_1_loss_curve_values[5]) * 100\n",
    "\n",
    "# Calcula a variação percentual na pontuação de validação (acurácia) entre a época 5 e a última época\n",
    "validation_scores_1_pct_change = ((mlp_1_validation_scores[5] - mlp_1_validation_scores[len(mlp_1_validation_scores) - 1]) / mlp_1_validation_scores[5]) * 100\n",
    "\n",
    "# Exibe a queda percentual na curva de perda entre a época 5 e a última época\n",
    "print(f\"Entre a época 5 e a época {len(mlp_1_loss_curve_values)-1} houve uma queda de {loss_curve_1_pct_change:.2f}% na curva de perda.\\n\")\n",
    "\n",
    "# Exibe o aumento percentual na acurácia entre a época 5 e a última época (o sinal negativo é invertido para apresentar um aumento positivo)\n",
    "print(f\"Entre a época 5 e a época {len(mlp_1_validation_scores)-1} houve um aumento de {-validation_scores_1_pct_change:.2f}% na acurácia.\")"
   ]
  },
  {
   "cell_type": "markdown",
   "metadata": {},
   "source": [
    "*Com base na saída da célula acima e no gráfico apresentado para esse modelo, podemos concluir que a redução da função de perda (Loss Curve)não está acompanhada por um ganho proporcional na acurácia (Validation Scores). Esse desalinhamento sugere que o modelo pode estar subajustado (underfitting), indicando que ele está capturando apenas uma parte dos padrões presentes nos dados, o que limita sua capacidade de melhorar significativamente a acurácia.*"
   ]
  },
  {
   "cell_type": "code",
   "execution_count": null,
   "metadata": {},
   "outputs": [],
   "source": [
    "# Esta função plota duas séries temporais (curva de perda e pontuação de validação) para o modelo MLP 2, de modo a podermos visualizar\n",
    "# o desempenho desse modelo ao longo das épocas. O eixo X representa as épocas e o eixo Y mostra os valores correspondentes de perda e \n",
    "# pontuação de validação.\n",
    "plot_multiples_time_series_line_graphs([mlp_2_loss_curve_values, mlp_2_validation_scores], \"Loss Curve vs Validation Scores for the MLP 2\", \"Epoch\", \"Value\")"
   ]
  },
  {
   "cell_type": "markdown",
   "metadata": {},
   "source": [
    "*Com base no gráfico apresentado para o Modelo 2, podemos observar que a função de perda diminui de forma consistente ao longo do treinamento, estabilizando-se em valores baixos, enquanto a acurácia aumenta gradualmente (se aproximando cada vez mais de seu valor limite), o que sugere que o modelo está generalizando bem para dados não vistos. Além disso, não há uma diferença significativa entre o comportamento das curvas apresentadas. Tais fatores indicam que o modelo não está apresentando sinais de overfitting ou underfitting.*"
   ]
  },
  {
   "cell_type": "code",
   "execution_count": null,
   "metadata": {
    "id": "eRlo_Qu6ZQ86"
   },
   "outputs": [],
   "source": [
    "# Esta função plota duas séries temporais (curva de perda e pontuação de validação) para o melhor modelo MLP, de modo a podermos visualizar\n",
    "# o desempenho desse modelo ao longo das épocas. O eixo X representa as épocas e o eixo Y mostra os valores correspondentes de perda e \n",
    "# pontuação de validação.\n",
    "plot_multiples_time_series_line_graphs([best_mlp_loss_curve_values, best_mlp_validation_scores], \"Loss Curve vs Validation Scores for the Best MLP\", \"Epoch\", \"Value\")"
   ]
  },
  {
   "cell_type": "markdown",
   "metadata": {},
   "source": [
    "*O gráfico acima é bastante semelhante ao apresentado para o Modelo 2, pois as duas redes possuem configurações idênticas, com a única diferença sendo o número de épocas, o que faz o Modelo 3 apresentar um desempenho ligeiramente superior em termos de acurácia. De forma mais específica, podemos observar que o pequeno aumento na acurácia do terceiro modelo, em comparação ao segundo, é acompanhado por uma redução na função de perda. Além disso, assim como no Modelo 2, não há diferença significativa no comportamento das duas curvas apresentadas. Tais fatores indicam que o Modelo 3 também não apresenta sinais de overfitting ou underfitting, tal como o modelo 2.*"
   ]
  },
  {
   "cell_type": "markdown",
   "metadata": {
    "id": "JhJSZM41ZNw4"
   },
   "source": [
    "---"
   ]
  },
  {
   "cell_type": "markdown",
   "metadata": {
    "id": "u3twj4RlHQok"
   },
   "source": [
    "# 4️⃣ Tarefa 04: Resultados e Visualizações 🤞🏻"
   ]
  },
  {
   "cell_type": "markdown",
   "metadata": {
    "id": "SOOBIO28ZK1m"
   },
   "source": [
    "## 🐳 Item a)\n",
    "\n",
    "Gere e apresente uma matriz de confusão que mostre a distribuição das previsões do melhor modelo. Quais as métricas de Acurácia, Precisão, Recall e F1-Score para esse modelo?"
   ]
  },
  {
   "cell_type": "code",
   "execution_count": null,
   "metadata": {
    "id": "8N4EmJVEZRzP"
   },
   "outputs": [],
   "source": [
    "# Gera a matriz de confusão comparando os rótulos verdadeiros (y_test) com as previsões do modelo (best_y_pred).\n",
    "conf_matrix = confusion_matrix(y_test, best_y_pred)\n",
    "\n",
    "# Exibe a matriz de confusão gerada acima.\n",
    "conf_matrix"
   ]
  },
  {
   "cell_type": "code",
   "execution_count": null,
   "metadata": {},
   "outputs": [],
   "source": [
    "# Será criado um mapa de calor junto da matriz de confusão para melhorar a visualização da matriz de confusão.\n",
    "\n",
    "# Cria uma nova Figure.\n",
    "fig = go.Figure(\n",
    "    # Adiciona à Figure criada um heatmap.\n",
    "    data=go.Heatmap(\n",
    "        z=conf_matrix,  # Seta os valores da matriz de confusão como o \"eixo z\" do heatmap.\n",
    "        x=[\"Classe 0\", \"Classe 1\", \"Classe 2\", \"Classe 3\", \"Classe 4\",\n",
    "           \"Classe 5\", \"Classe 6\", \"Classe 7\", \"Classe 8\", \"Classe 9\"],  # Rótulos do eixo X (classes previstas).\n",
    "        y=[\"Classe 0\", \"Classe 1\", \"Classe 2\", \"Classe 3\", \"Classe 4\",\n",
    "           \"Classe 5\", \"Classe 6\", \"Classe 7\", \"Classe 8\", \"Classe 9\"],  # Rótulos do eixo Y (classes reais).\n",
    "        colorscale=\"Blues\",  # Escala de cores do mapa de calor.\n",
    "        text=conf_matrix,  # Adiciona os valores da matriz como texto no gráfico.\n",
    "        texttemplate=\"%{text}\"  # Define o formato do texto exibido no gráfico.\n",
    "    )\n",
    ")\n",
    "\n",
    "# Ajusta o layout do heatmap da matriz de confusão.\n",
    "fig.update_layout(\n",
    "    title=\"Mapa de calor da Matriz de Confusão\",           # Seta o título do plot.\n",
    "    xaxis=dict(title=\"Classe Predita\"),                    # Seta o título do eixo X.\n",
    "    yaxis=dict(title=\"Classe Real\", autorange=\"reversed\"), # Seta o título do eixo Y.\n",
    ")\n",
    "\n",
    "# Exibe o plot\n",
    "fig.show()"
   ]
  },
  {
   "cell_type": "code",
   "execution_count": null,
   "metadata": {
    "id": "afZy1_QnZR1H"
   },
   "outputs": [],
   "source": [
    "# Printa um relatório detalhado dos resultados da classificação (Incluindo Acurácia, Precisão, Recall e f1-score).\n",
    "print(classification_report(y_test, best_y_pred))"
   ]
  },
  {
   "cell_type": "markdown",
   "metadata": {
    "id": "yQ1EnPzLZJv1"
   },
   "source": [
    "## 🐸 Item b)\n",
    "\n",
    "Exiba gráficos que mostram a evolução da acurácia e da perda (`Loss`) durante o treinamento do melhor modelo encontrado no item 3c)."
   ]
  },
  {
   "cell_type": "code",
   "execution_count": null,
   "metadata": {
    "id": "drg2DaDCZSP7"
   },
   "outputs": [],
   "source": [
    "# Define os nomes das séries para identificar a evolução da acurácia e da função de perda no gráfico que será plotado.\n",
    "best_mlp_loss_curve_values.name = \"Evolução da Acurácia\"\n",
    "best_mlp_validation_scores.name = \"Evolução da Função de Perda\"\n",
    "\n",
    "# Esta função plota duas séries temporais (curva de perda e pontuação de validação) para o melhor modelo MLP, de modo a podermos visualizar\n",
    "# o desempenho desse modelo ao longo das épocas. O eixo X representa as épocas e o eixo Y mostra os valores correspondentes de perda e \n",
    "# pontuação de validação.\n",
    "plot_multiples_time_series_line_graphs([best_mlp_loss_curve_values, best_mlp_validation_scores], \"Loss Curve vs Validation Scores for the Best MLP\", \"Epoch\", \"Value\")"
   ]
  },
  {
   "cell_type": "markdown",
   "metadata": {
    "id": "lvHuhj41ZIem"
   },
   "source": [
    "## 🦖 Item c)\n",
    "\n",
    "Escolha algumas imagens do conjunto de teste e mostre previsões do seu modelo, com acertos e erros. Discuta quais fatores podem ter contribuído para essas previsões corretas e incorretas."
   ]
  },
  {
   "cell_type": "code",
   "execution_count": null,
   "metadata": {
    "id": "yTDoZCiBZSvI"
   },
   "outputs": [],
   "source": []
  },
  {
   "cell_type": "code",
   "execution_count": null,
   "metadata": {
    "id": "lTW6Y5cuZSxj"
   },
   "outputs": [],
   "source": []
  },
  {
   "cell_type": "code",
   "execution_count": null,
   "metadata": {
    "id": "7115SaQnZS0J"
   },
   "outputs": [],
   "source": []
  },
  {
   "cell_type": "markdown",
   "metadata": {
    "id": "VFtgYlQfZLp6"
   },
   "source": [
    "---"
   ]
  },
  {
   "cell_type": "markdown",
   "metadata": {
    "id": "ndh6bvtSHipL"
   },
   "source": [
    "# 5️⃣ Tarefa 05: Lembrete *Kaggle* e Documentação 🗃️"
   ]
  },
  {
   "cell_type": "markdown",
   "metadata": {
    "id": "_FiWgUycHnuC"
   },
   "source": [
    "## 😮‍💨 Item a)\n",
    "\n",
    "# Lembre-se de publicar no *Kaggle* com o título correto e padronizado!"
   ]
  },
  {
   "cell_type": "markdown",
   "metadata": {
    "id": "4HCM3vhMIc-E"
   },
   "source": [
    "## 🙏🏻 Item b)\n",
    "\n",
    "# Lembre-se de documentar adequadamente seu código e conclusões!"
   ]
  }
 ],
 "metadata": {
  "accelerator": "GPU",
  "colab": {
   "gpuType": "T4",
   "provenance": [],
   "toc_visible": true
  },
  "kernelspec": {
   "display_name": "Python 3",
   "name": "python3"
  },
  "language_info": {
   "codemirror_mode": {
    "name": "ipython",
    "version": 3
   },
   "file_extension": ".py",
   "mimetype": "text/x-python",
   "name": "python",
   "nbconvert_exporter": "python",
   "pygments_lexer": "ipython3",
   "version": "3.10.12"
  }
 },
 "nbformat": 4,
 "nbformat_minor": 0
}
